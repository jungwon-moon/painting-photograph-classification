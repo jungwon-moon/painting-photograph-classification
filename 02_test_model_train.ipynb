{
 "cells": [
  {
   "cell_type": "code",
   "execution_count": 1,
   "metadata": {},
   "outputs": [],
   "source": [
    "import os\n",
    "import glob\n",
    "import numpy as np\n",
    "import cv2\n",
    "import cvlib as cv\n",
    "import matplotlib.pyplot as plt\n",
    "\n",
    "import tensorflow as tf\n",
    "from tensorflow import keras\n",
    "from tensorflow.keras import layers\n",
    "from tensorflow.keras.models import Sequential, load_model\n",
    "from tensorflow.keras.preprocessing.image import ImageDataGenerator, img_to_array\n",
    "from tensorflow.keras.applications.mobilenet_v2 import MobileNetV2, preprocess_input"
   ]
  },
  {
   "cell_type": "code",
   "execution_count": 2,
   "metadata": {},
   "outputs": [],
   "source": [
    "batch_size = 32\n",
    "img_height = 224\n",
    "img_width  = 224\n",
    "base_lr = 1e-5\n",
    "epochs  = 50\n",
    "\n",
    "path = './data'"
   ]
  },
  {
   "cell_type": "code",
   "execution_count": 3,
   "metadata": {},
   "outputs": [
    {
     "name": "stdout",
     "output_type": "stream",
     "text": [
      "Found 7037 images belonging to 2 classes.\n",
      "Found 3014 images belonging to 2 classes.\n"
     ]
    }
   ],
   "source": [
    "train_datagen = ImageDataGenerator(\n",
    "#     rescale=1./255,\n",
    "    rotation_range=40,\n",
    "    width_shift_range=0.2,\n",
    "    height_shift_range=0.2,\n",
    "    shear_range=0.2,\n",
    "    zoom_range=0.1,\n",
    "    horizontal_flip=True,\n",
    "    validation_split=0.3,\n",
    "    fill_mode='nearest',\n",
    "    preprocessing_function=preprocess_input)\n",
    "\n",
    "valid_datagen = ImageDataGenerator(\n",
    "#     rescale=1./255,\n",
    "    validation_split=0.3,\n",
    "    preprocessing_function=preprocess_input)\n",
    "\n",
    "train_generator = train_datagen.flow_from_directory(\n",
    "    path+'/train',\n",
    "    target_size=(img_height, img_width),\n",
    "    batch_size=batch_size,\n",
    "    seed=93,\n",
    "    subset='training')\n",
    "\n",
    "valid_generator = valid_datagen.flow_from_directory(\n",
    "    path+'/train',\n",
    "    target_size=(img_height, img_width),\n",
    "    batch_size=batch_size,\n",
    "    seed=93,\n",
    "    subset='validation')"
   ]
  },
  {
   "cell_type": "code",
   "execution_count": 4,
   "metadata": {},
   "outputs": [],
   "source": [
    "img_shape = (img_height, img_width, 3)\n",
    "\n",
    "base_model = MobileNetV2(input_shape=img_shape,\n",
    "                        include_top=False,\n",
    "                        weights='imagenet')\n",
    "base_model.trainable = False"
   ]
  },
  {
   "cell_type": "code",
   "execution_count": 5,
   "metadata": {},
   "outputs": [
    {
     "name": "stdout",
     "output_type": "stream",
     "text": [
      "Tensor(\"dense/Softmax:0\", shape=(None, 2), dtype=float32)\n"
     ]
    }
   ],
   "source": [
    "x = base_model.output\n",
    "x = layers.AveragePooling2D(pool_size=(5, 5), strides=1, padding='same')(x)\n",
    "x = layers.Flatten()(x)\n",
    "x = layers.Dense(2, activation='softmax')(x)\n",
    "print(x)"
   ]
  },
  {
   "cell_type": "code",
   "execution_count": 6,
   "metadata": {},
   "outputs": [],
   "source": [
    "model = keras.models.Model(inputs=base_model.input, outputs=x)\n",
    "\n",
    "model.compile(optimizer=tf.keras.optimizers.Adam(learning_rate=base_lr, decay=base_lr/epochs),\n",
    "              loss='binary_crossentropy',\n",
    "              metrics=['accuracy'])"
   ]
  },
  {
   "cell_type": "code",
   "execution_count": 7,
   "metadata": {},
   "outputs": [
    {
     "name": "stdout",
     "output_type": "stream",
     "text": [
      "Epoch 1/50\n",
      "220/220 [==============================] - 88s 400ms/step - loss: 0.5654 - accuracy: 0.7299 - val_loss: 0.4266 - val_accuracy: 0.8059\n",
      "Epoch 2/50\n",
      "220/220 [==============================] - 85s 388ms/step - loss: 0.3893 - accuracy: 0.8310 - val_loss: 0.3799 - val_accuracy: 0.8315\n",
      "Epoch 3/50\n",
      "220/220 [==============================] - 84s 382ms/step - loss: 0.3425 - accuracy: 0.8556 - val_loss: 0.3531 - val_accuracy: 0.8451\n",
      "Epoch 4/50\n",
      "220/220 [==============================] - 86s 391ms/step - loss: 0.3250 - accuracy: 0.8643 - val_loss: 0.3377 - val_accuracy: 0.8543\n",
      "Epoch 5/50\n",
      "220/220 [==============================] - 85s 386ms/step - loss: 0.3080 - accuracy: 0.8690 - val_loss: 0.3309 - val_accuracy: 0.8640\n",
      "Epoch 6/50\n",
      "220/220 [==============================] - 82s 371ms/step - loss: 0.3007 - accuracy: 0.8764 - val_loss: 0.3242 - val_accuracy: 0.8673\n",
      "Epoch 7/50\n",
      "220/220 [==============================] - 81s 369ms/step - loss: 0.2919 - accuracy: 0.8816 - val_loss: 0.3200 - val_accuracy: 0.8693\n",
      "Epoch 8/50\n",
      "220/220 [==============================] - 85s 384ms/step - loss: 0.2935 - accuracy: 0.8806 - val_loss: 0.3234 - val_accuracy: 0.8623\n",
      "Epoch 9/50\n",
      "220/220 [==============================] - 80s 365ms/step - loss: 0.2800 - accuracy: 0.8849 - val_loss: 0.3135 - val_accuracy: 0.8723\n",
      "Epoch 10/50\n",
      "220/220 [==============================] - 78s 355ms/step - loss: 0.2665 - accuracy: 0.8923 - val_loss: 0.3147 - val_accuracy: 0.8683\n",
      "Epoch 11/50\n",
      "220/220 [==============================] - 81s 369ms/step - loss: 0.2691 - accuracy: 0.8906 - val_loss: 0.3108 - val_accuracy: 0.8736\n",
      "Epoch 12/50\n",
      "220/220 [==============================] - 81s 370ms/step - loss: 0.2727 - accuracy: 0.8889 - val_loss: 0.3064 - val_accuracy: 0.8726\n",
      "Epoch 13/50\n",
      "220/220 [==============================] - 80s 365ms/step - loss: 0.2486 - accuracy: 0.8987 - val_loss: 0.3142 - val_accuracy: 0.8752\n",
      "Epoch 14/50\n",
      "220/220 [==============================] - 79s 358ms/step - loss: 0.2567 - accuracy: 0.8970 - val_loss: 0.3022 - val_accuracy: 0.8749\n",
      "Epoch 15/50\n",
      "220/220 [==============================] - 82s 374ms/step - loss: 0.2552 - accuracy: 0.8950 - val_loss: 0.3004 - val_accuracy: 0.8782\n",
      "Epoch 16/50\n",
      "220/220 [==============================] - 81s 368ms/step - loss: 0.2449 - accuracy: 0.9022 - val_loss: 0.3045 - val_accuracy: 0.8779\n",
      "Epoch 17/50\n",
      "220/220 [==============================] - 80s 362ms/step - loss: 0.2549 - accuracy: 0.8968 - val_loss: 0.3067 - val_accuracy: 0.8716\n",
      "Epoch 18/50\n",
      "220/220 [==============================] - 79s 359ms/step - loss: 0.2492 - accuracy: 0.9002 - val_loss: 0.3035 - val_accuracy: 0.8802\n",
      "Epoch 19/50\n",
      "220/220 [==============================] - 78s 353ms/step - loss: 0.2386 - accuracy: 0.9021 - val_loss: 0.3109 - val_accuracy: 0.8719\n",
      "Epoch 20/50\n",
      "220/220 [==============================] - 79s 357ms/step - loss: 0.2338 - accuracy: 0.9056 - val_loss: 0.3216 - val_accuracy: 0.8739\n",
      "Epoch 21/50\n",
      "220/220 [==============================] - 78s 353ms/step - loss: 0.2376 - accuracy: 0.9062 - val_loss: 0.3150 - val_accuracy: 0.8756\n",
      "Epoch 22/50\n",
      "220/220 [==============================] - 79s 358ms/step - loss: 0.2354 - accuracy: 0.9058 - val_loss: 0.3184 - val_accuracy: 0.8756\n",
      "Epoch 23/50\n",
      "220/220 [==============================] - 83s 379ms/step - loss: 0.2366 - accuracy: 0.9069 - val_loss: 0.3088 - val_accuracy: 0.8749\n",
      "Epoch 24/50\n",
      "220/220 [==============================] - 83s 379ms/step - loss: 0.2305 - accuracy: 0.9081 - val_loss: 0.3058 - val_accuracy: 0.8759\n",
      "Epoch 25/50\n",
      "220/220 [==============================] - 85s 384ms/step - loss: 0.2392 - accuracy: 0.9081 - val_loss: 0.3131 - val_accuracy: 0.8759\n",
      "Epoch 26/50\n",
      "220/220 [==============================] - 88s 398ms/step - loss: 0.2237 - accuracy: 0.9095 - val_loss: 0.3007 - val_accuracy: 0.8782\n",
      "Epoch 27/50\n",
      "220/220 [==============================] - 89s 403ms/step - loss: 0.2297 - accuracy: 0.9112 - val_loss: 0.3023 - val_accuracy: 0.8772\n",
      "Epoch 28/50\n",
      "220/220 [==============================] - 86s 389ms/step - loss: 0.2275 - accuracy: 0.9125 - val_loss: 0.3009 - val_accuracy: 0.8809\n",
      "Epoch 29/50\n",
      "220/220 [==============================] - 82s 371ms/step - loss: 0.2253 - accuracy: 0.9064 - val_loss: 0.3037 - val_accuracy: 0.8776\n",
      "Epoch 30/50\n",
      "220/220 [==============================] - 82s 375ms/step - loss: 0.2249 - accuracy: 0.9081 - val_loss: 0.2976 - val_accuracy: 0.8812\n",
      "Epoch 31/50\n",
      "220/220 [==============================] - 85s 385ms/step - loss: 0.2237 - accuracy: 0.9086 - val_loss: 0.3216 - val_accuracy: 0.8706\n",
      "Epoch 32/50\n",
      "220/220 [==============================] - 85s 384ms/step - loss: 0.2301 - accuracy: 0.9066 - val_loss: 0.3087 - val_accuracy: 0.8782\n",
      "Epoch 33/50\n",
      "220/220 [==============================] - 84s 384ms/step - loss: 0.2269 - accuracy: 0.9071 - val_loss: 0.3042 - val_accuracy: 0.8809\n",
      "Epoch 34/50\n",
      "220/220 [==============================] - 81s 370ms/step - loss: 0.2190 - accuracy: 0.9143 - val_loss: 0.3122 - val_accuracy: 0.8752\n",
      "Epoch 35/50\n",
      "220/220 [==============================] - 83s 378ms/step - loss: 0.2221 - accuracy: 0.9098 - val_loss: 0.3102 - val_accuracy: 0.8766\n",
      "Epoch 36/50\n",
      "220/220 [==============================] - 83s 376ms/step - loss: 0.2266 - accuracy: 0.9089 - val_loss: 0.3101 - val_accuracy: 0.8772\n",
      "Epoch 37/50\n",
      "220/220 [==============================] - 82s 372ms/step - loss: 0.2193 - accuracy: 0.9130 - val_loss: 0.3103 - val_accuracy: 0.8782\n",
      "Epoch 38/50\n",
      "220/220 [==============================] - 83s 377ms/step - loss: 0.2153 - accuracy: 0.9160 - val_loss: 0.3065 - val_accuracy: 0.8802\n",
      "Epoch 39/50\n",
      "220/220 [==============================] - 81s 370ms/step - loss: 0.2188 - accuracy: 0.9143 - val_loss: 0.3079 - val_accuracy: 0.8806\n",
      "Epoch 40/50\n",
      "220/220 [==============================] - 82s 372ms/step - loss: 0.2099 - accuracy: 0.9146 - val_loss: 0.3066 - val_accuracy: 0.8766\n",
      "Epoch 41/50\n",
      "220/220 [==============================] - 82s 375ms/step - loss: 0.2149 - accuracy: 0.9162 - val_loss: 0.3193 - val_accuracy: 0.8726\n",
      "Epoch 42/50\n",
      "220/220 [==============================] - 81s 370ms/step - loss: 0.2140 - accuracy: 0.9174 - val_loss: 0.3060 - val_accuracy: 0.8782\n",
      "Epoch 43/50\n",
      "220/220 [==============================] - 81s 370ms/step - loss: 0.2185 - accuracy: 0.9129 - val_loss: 0.3053 - val_accuracy: 0.8812\n",
      "Epoch 44/50\n",
      "220/220 [==============================] - 81s 367ms/step - loss: 0.2182 - accuracy: 0.9135 - val_loss: 0.3071 - val_accuracy: 0.8816\n",
      "Epoch 45/50\n",
      "220/220 [==============================] - 79s 359ms/step - loss: 0.2028 - accuracy: 0.9196 - val_loss: 0.3107 - val_accuracy: 0.8752\n",
      "Epoch 46/50\n",
      "220/220 [==============================] - 78s 355ms/step - loss: 0.2167 - accuracy: 0.9149 - val_loss: 0.3089 - val_accuracy: 0.8786\n",
      "Epoch 47/50\n",
      "220/220 [==============================] - 78s 352ms/step - loss: 0.2217 - accuracy: 0.9109 - val_loss: 0.3123 - val_accuracy: 0.8802\n",
      "Epoch 48/50\n",
      "220/220 [==============================] - 78s 356ms/step - loss: 0.2190 - accuracy: 0.9119 - val_loss: 0.3063 - val_accuracy: 0.8819\n",
      "Epoch 49/50\n",
      "220/220 [==============================] - 77s 351ms/step - loss: 0.2159 - accuracy: 0.9129 - val_loss: 0.3109 - val_accuracy: 0.8796\n",
      "Epoch 50/50\n",
      "220/220 [==============================] - 78s 352ms/step - loss: 0.2107 - accuracy: 0.9173 - val_loss: 0.3104 - val_accuracy: 0.8752\n"
     ]
    }
   ],
   "source": [
    "callbacks_list = [\n",
    "    tf.keras.callbacks.ModelCheckpoint(\n",
    "    filepath='./models/MobileNet_test1.h5',\n",
    "    monitor='val_loss',\n",
    "    save_best_only=True)\n",
    "]\n",
    "\n",
    "history = model.fit(\n",
    "          train_generator,\n",
    "          validation_data=valid_generator,\n",
    "          epochs=epochs,\n",
    "          callbacks=callbacks_list\n",
    ")"
   ]
  },
  {
   "cell_type": "code",
   "execution_count": 8,
   "metadata": {},
   "outputs": [
    {
     "data": {
      "image/png": "[encoded data removed]",
      "text/plain": [
       "<Figure size 360x360 with 2 Axes>"
      ]
     },
     "metadata": {
      "needs_background": "light"
     },
     "output_type": "display_data"
    }
   ],
   "source": [
    "fig, loss_ax = plt.subplots(figsize=(5,5))\n",
    "acc_ax = loss_ax.twinx()\n",
    "\n",
    "loss_ax.plot(history.history['loss'], 'y', label='loss')\n",
    "loss_ax.plot(history.history['val_loss'], 'r', label='val_loss')\n",
    "# loss_ax.set_ylim([0, 1])\n",
    "\n",
    "acc_ax.plot(history.history['accuracy'], 'b', label='accuracy')\n",
    "acc_ax.plot(history.history['val_accuracy'], 'g', label='val_accuracy')\n",
    "# acc_ax.set_ylim([0, 1])\n",
    "\n",
    "loss_ax.set_xlabel('epoch')\n",
    "loss_ax.set_ylabel('loss')\n",
    "acc_ax.set_ylabel('accuracy')\n",
    "\n",
    "loss_ax.legend(loc='lower left')\n",
    "acc_ax.legend(loc='upper left')\n",
    "plt.show()"
   ]
  },
  {
   "cell_type": "code",
   "execution_count": null,
   "metadata": {},
   "outputs": [],
   "source": []
  }
 ],
 "metadata": {
  "hide_input": false,
  "kernelspec": {
   "display_name": "Python 3",
   "language": "python",
   "name": "python3"
  },
  "language_info": {
   "codemirror_mode": {
    "name": "ipython",
    "version": 3
   },
   "file_extension": ".py",
   "mimetype": "text/x-python",
   "name": "python",
   "nbconvert_exporter": "python",
   "pygments_lexer": "ipython3",
   "version": "3.6.9"
  }
 },
 "nbformat": 4,
 "nbformat_minor": 4
}
