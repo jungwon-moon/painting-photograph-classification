{
 "cells": [
  {
   "cell_type": "code",
   "execution_count": 1,
   "metadata": {},
   "outputs": [],
   "source": [
    "import os\n",
    "import glob\n",
    "import numpy as np\n",
    "import cv2\n",
    "import cvlib as cv\n",
    "import matplotlib.pyplot as plt\n",
    "\n",
    "import tensorflow as tf\n",
    "from tensorflow import keras\n",
    "from tensorflow.keras import layers\n",
    "from tensorflow.keras.models import Sequential, load_model\n",
    "from tensorflow.keras.preprocessing.image import ImageDataGenerator, img_to_array\n",
    "from tensorflow.keras.applications.mobilenet_v2 import MobileNetV2, preprocess_input"
   ]
  },
  {
   "cell_type": "code",
   "execution_count": 2,
   "metadata": {},
   "outputs": [],
   "source": [
    "batch_size = 32\n",
    "img_height = 224\n",
    "img_width  = 224\n",
    "base_lr = 1e-5\n",
    "epochs  = 20\n",
    "\n",
    "path = './archive'"
   ]
  },
  {
   "cell_type": "code",
   "execution_count": 3,
   "metadata": {},
   "outputs": [
    {
     "name": "stdout",
     "output_type": "stream",
     "text": [
      "Found 7041 images belonging to 2 classes.\n",
      "Found 3010 images belonging to 2 classes.\n"
     ]
    }
   ],
   "source": [
    "train_datagen = ImageDataGenerator(\n",
    "    rotation_range=20,\n",
    "    width_shift_range=0.2,\n",
    "    height_shift_range=0.2,\n",
    "    shear_range=0.2,\n",
    "    zoom_range=0.1,\n",
    "    horizontal_flip=True,\n",
    "    fill_mode='nearest',\n",
    "    preprocessing_function=preprocess_input)\n",
    "\n",
    "valid_datagen = ImageDataGenerator(\n",
    "    preprocessing_function=preprocess_input)\n",
    "\n",
    "train_generator = train_datagen.flow_from_directory(\n",
    "    path+'/train',\n",
    "    target_size=(img_height, img_width),\n",
    "    batch_size=batch_size,\n",
    "    seed=93)\n",
    "\n",
    "valid_generator = valid_datagen.flow_from_directory(\n",
    "    path+'/valid',\n",
    "    target_size=(img_height, img_width),\n",
    "    batch_size=batch_size,\n",
    "    seed=93)"
   ]
  },
  {
   "cell_type": "code",
   "execution_count": 4,
   "metadata": {},
   "outputs": [],
   "source": [
    "img_shape = (img_height, img_width, 3)\n",
    "\n",
    "base_model = MobileNetV2(input_shape=img_shape,\n",
    "                        include_top=False,\n",
    "                        weights='imagenet')\n",
    "base_model.trainable = False"
   ]
  },
  {
   "cell_type": "code",
   "execution_count": 5,
   "metadata": {},
   "outputs": [
    {
     "name": "stdout",
     "output_type": "stream",
     "text": [
      "Tensor(\"dense/Softmax:0\", shape=(None, 2), dtype=float32)\n"
     ]
    }
   ],
   "source": [
    "x = base_model.output\n",
    "x = layers.AveragePooling2D(pool_size=(5, 5), strides=1, padding='same')(x)\n",
    "x = layers.Flatten()(x)\n",
    "x = layers.Dense(2, activation='softmax')(x)\n",
    "print(x)"
   ]
  },
  {
   "cell_type": "code",
   "execution_count": 6,
   "metadata": {},
   "outputs": [],
   "source": [
    "model = keras.models.Model(inputs=base_model.input, outputs=x)\n",
    "\n",
    "model.compile(optimizer=tf.keras.optimizers.Adam(learning_rate=base_lr, decay=base_lr/epochs),\n",
    "              loss='binary_crossentropy',\n",
    "              metrics=['accuracy'])"
   ]
  },
  {
   "cell_type": "code",
   "execution_count": 7,
   "metadata": {},
   "outputs": [
    {
     "name": "stdout",
     "output_type": "stream",
     "text": [
      "Epoch 1/20\n",
      "221/221 [==============================] - 76s 346ms/step - loss: 0.5485 - accuracy: 0.7382 - val_loss: 0.4370 - val_accuracy: 0.8090\n",
      "Epoch 2/20\n",
      "221/221 [==============================] - 78s 351ms/step - loss: 0.3821 - accuracy: 0.8368 - val_loss: 0.3594 - val_accuracy: 0.8482\n",
      "Epoch 3/20\n",
      "221/221 [==============================] - 78s 352ms/step - loss: 0.3466 - accuracy: 0.8519 - val_loss: 0.3380 - val_accuracy: 0.8635\n",
      "Epoch 4/20\n",
      "221/221 [==============================] - 79s 357ms/step - loss: 0.3263 - accuracy: 0.8607 - val_loss: 0.3233 - val_accuracy: 0.8718\n",
      "Epoch 5/20\n",
      "221/221 [==============================] - 77s 350ms/step - loss: 0.3114 - accuracy: 0.8679 - val_loss: 0.3159 - val_accuracy: 0.8744\n",
      "Epoch 6/20\n",
      "221/221 [==============================] - 80s 360ms/step - loss: 0.2924 - accuracy: 0.8794 - val_loss: 0.3061 - val_accuracy: 0.8748\n",
      "Epoch 7/20\n",
      "221/221 [==============================] - 78s 353ms/step - loss: 0.2912 - accuracy: 0.8813 - val_loss: 0.2984 - val_accuracy: 0.8797\n",
      "Epoch 8/20\n",
      "221/221 [==============================] - 79s 355ms/step - loss: 0.2843 - accuracy: 0.8834 - val_loss: 0.2915 - val_accuracy: 0.8831\n",
      "Epoch 9/20\n",
      "221/221 [==============================] - 78s 354ms/step - loss: 0.2708 - accuracy: 0.8851 - val_loss: 0.2943 - val_accuracy: 0.8841\n",
      "Epoch 10/20\n",
      "221/221 [==============================] - 78s 355ms/step - loss: 0.2731 - accuracy: 0.8916 - val_loss: 0.2921 - val_accuracy: 0.8817\n",
      "Epoch 11/20\n",
      "221/221 [==============================] - 77s 350ms/step - loss: 0.2571 - accuracy: 0.8972 - val_loss: 0.2896 - val_accuracy: 0.8831\n",
      "Epoch 12/20\n",
      "221/221 [==============================] - 78s 351ms/step - loss: 0.2620 - accuracy: 0.8925 - val_loss: 0.2933 - val_accuracy: 0.8867\n",
      "Epoch 13/20\n",
      "221/221 [==============================] - 77s 351ms/step - loss: 0.2525 - accuracy: 0.9000 - val_loss: 0.2825 - val_accuracy: 0.8884\n",
      "Epoch 14/20\n",
      "221/221 [==============================] - 77s 348ms/step - loss: 0.2580 - accuracy: 0.8983 - val_loss: 0.2858 - val_accuracy: 0.8864\n",
      "Epoch 15/20\n",
      "221/221 [==============================] - 77s 350ms/step - loss: 0.2503 - accuracy: 0.9016 - val_loss: 0.2814 - val_accuracy: 0.8880\n",
      "Epoch 16/20\n",
      "221/221 [==============================] - 78s 352ms/step - loss: 0.2494 - accuracy: 0.8985 - val_loss: 0.2868 - val_accuracy: 0.8857\n",
      "Epoch 17/20\n",
      "221/221 [==============================] - 74s 335ms/step - loss: 0.2417 - accuracy: 0.9007 - val_loss: 0.2829 - val_accuracy: 0.8854\n",
      "Epoch 18/20\n",
      "221/221 [==============================] - 74s 333ms/step - loss: 0.2390 - accuracy: 0.9044 - val_loss: 0.3130 - val_accuracy: 0.8734\n",
      "Epoch 19/20\n",
      "221/221 [==============================] - 74s 333ms/step - loss: 0.2357 - accuracy: 0.9044 - val_loss: 0.2778 - val_accuracy: 0.8904\n",
      "Epoch 20/20\n",
      "221/221 [==============================] - 76s 342ms/step - loss: 0.2346 - accuracy: 0.9105 - val_loss: 0.2827 - val_accuracy: 0.8887\n"
     ]
    }
   ],
   "source": [
    "callbacks_list = [\n",
    "    tf.keras.callbacks.ModelCheckpoint(\n",
    "    filepath='./models/MobileNet_test.h5',\n",
    "    monitor='val_loss',\n",
    "    save_best_only=True)\n",
    "]\n",
    "\n",
    "history = model.fit(\n",
    "          train_generator,\n",
    "          validation_data=valid_generator,\n",
    "          epochs=epochs,\n",
    "          callbacks=callbacks_list\n",
    ")"
   ]
  },
  {
   "cell_type": "code",
   "execution_count": 8,
   "metadata": {},
   "outputs": [
    {
     "data": {
      "image/png": "[encoded data removed]",
      "text/plain": [
       "<Figure size 360x360 with 2 Axes>"
      ]
     },
     "metadata": {
      "needs_background": "light"
     },
     "output_type": "display_data"
    }
   ],
   "source": [
    "fig, loss_ax = plt.subplots(figsize=(5,5))\n",
    "acc_ax = loss_ax.twinx()\n",
    "\n",
    "loss_ax.plot(history.history['loss'], 'y', label='loss')\n",
    "loss_ax.plot(history.history['val_loss'], 'r', label='val_loss')\n",
    "\n",
    "acc_ax.plot(history.history['accuracy'], 'b', label='accuracy')\n",
    "acc_ax.plot(history.history['val_accuracy'], 'g', label='val_accuracy')\n",
    "\n",
    "loss_ax.set_xlabel('epoch')\n",
    "loss_ax.set_ylabel('loss')\n",
    "acc_ax.set_ylabel('accuracy')\n",
    "\n",
    "loss_ax.legend(loc='lower left')\n",
    "acc_ax.legend(loc='upper left')\n",
    "plt.show()"
   ]
  },
  {
   "cell_type": "code",
   "execution_count": null,
   "metadata": {},
   "outputs": [],
   "source": []
  }
 ],
 "metadata": {
  "hide_input": false,
  "kernelspec": {
   "display_name": "Python 3",
   "language": "python",
   "name": "python3"
  },
  "language_info": {
   "codemirror_mode": {
    "name": "ipython",
    "version": 3
   },
   "file_extension": ".py",
   "mimetype": "text/x-python",
   "name": "python",
   "nbconvert_exporter": "python",
   "pygments_lexer": "ipython3",
   "version": "3.6.9"
  }
 },
 "nbformat": 4,
 "nbformat_minor": 4
}
